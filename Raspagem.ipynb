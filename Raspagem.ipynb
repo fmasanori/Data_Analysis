{
 "cells": [
  {
   "cell_type": "code",
   "execution_count": 22,
   "metadata": {},
   "outputs": [],
   "source": [
    "import pandas as pd"
   ]
  },
  {
   "cell_type": "code",
   "execution_count": 68,
   "metadata": {},
   "outputs": [
    {
     "data": {
      "text/plain": [
       "Index(['CNPJ', 'Razão Social', 'Estado', 'Município', 'Código da Categoria',\n",
       "       'Categoria de Atividade', 'Código do Detalhe', 'Detalhe', 'Ano',\n",
       "       'Nome do produto', 'Quantidade importada', 'Quantidade exportada',\n",
       "       'Unidade de Medida', 'Estoque em 31 de dezembro de',\n",
       "       'Situação Cadastral'],\n",
       "      dtype='object')"
      ]
     },
     "execution_count": 68,
     "metadata": {},
     "output_type": "execute_result"
    }
   ],
   "source": [
    "import matplotlib.pyplot as plt\n",
    "dtf = pd.read_csv('http://dadosabertos.ibama.gov.br/dados/RAPP/impExpFaunaFlora/relatorio.csv', low_memory=False,delimiter=';', encoding='UTF-8', decimal=',')\n",
    "dtf.columns"
   ]
  },
  {
   "cell_type": "code",
   "execution_count": 74,
   "metadata": {},
   "outputs": [
    {
     "data": {
      "text/html": [
       "<div>\n",
       "<style scoped>\n",
       "    .dataframe tbody tr th:only-of-type {\n",
       "        vertical-align: middle;\n",
       "    }\n",
       "\n",
       "    .dataframe tbody tr th {\n",
       "        vertical-align: top;\n",
       "    }\n",
       "\n",
       "    .dataframe thead th {\n",
       "        text-align: right;\n",
       "    }\n",
       "</style>\n",
       "<table border=\"1\" class=\"dataframe\">\n",
       "  <thead>\n",
       "    <tr style=\"text-align: right;\">\n",
       "      <th></th>\n",
       "      <th>CNPJ</th>\n",
       "      <th>Estado</th>\n",
       "    </tr>\n",
       "  </thead>\n",
       "  <tbody>\n",
       "    <tr>\n",
       "      <th>15783</th>\n",
       "      <td>97.493.373/0001-83</td>\n",
       "      <td>SANTA CATARINA</td>\n",
       "    </tr>\n",
       "    <tr>\n",
       "      <th>15784</th>\n",
       "      <td>97.520.397/0001-84</td>\n",
       "      <td>PARANA</td>\n",
       "    </tr>\n",
       "    <tr>\n",
       "      <th>15785</th>\n",
       "      <td>97.520.397/0001-84</td>\n",
       "      <td>PARANA</td>\n",
       "    </tr>\n",
       "    <tr>\n",
       "      <th>15786</th>\n",
       "      <td>97.520.397/0001-84</td>\n",
       "      <td>PARANA</td>\n",
       "    </tr>\n",
       "    <tr>\n",
       "      <th>15787</th>\n",
       "      <td>97.520.397/0001-84</td>\n",
       "      <td>PARANA</td>\n",
       "    </tr>\n",
       "  </tbody>\n",
       "</table>\n",
       "</div>"
      ],
      "text/plain": [
       "                     CNPJ          Estado\n",
       "15783  97.493.373/0001-83  SANTA CATARINA\n",
       "15784  97.520.397/0001-84          PARANA\n",
       "15785  97.520.397/0001-84          PARANA\n",
       "15786  97.520.397/0001-84          PARANA\n",
       "15787  97.520.397/0001-84          PARANA"
      ]
     },
     "execution_count": 74,
     "metadata": {},
     "output_type": "execute_result"
    }
   ],
   "source": [
    "data1 = dtf['CNPJ'].head()\n",
    "data2= dtf['Estado'].head()\n",
    "conc_data_col = pd.concat([data1,data2],axis =1)\n",
    "conc_data_col"
   ]
  },
  {
   "cell_type": "code",
   "execution_count": null,
   "metadata": {},
   "outputs": [],
   "source": []
  }
 ],
 "metadata": {
  "kernelspec": {
   "display_name": "Python 3",
   "language": "python",
   "name": "python3"
  },
  "language_info": {
   "codemirror_mode": {
    "name": "ipython",
    "version": 3
   },
   "file_extension": ".py",
   "mimetype": "text/x-python",
   "name": "python",
   "nbconvert_exporter": "python",
   "pygments_lexer": "ipython3",
   "version": "3.6.4"
  }
 },
 "nbformat": 4,
 "nbformat_minor": 2
}
