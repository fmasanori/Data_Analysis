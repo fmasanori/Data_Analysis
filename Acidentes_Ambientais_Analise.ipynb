{
 "cells": [
  {
   "cell_type": "code",
   "execution_count": 173,
   "metadata": {
    "scrolled": false
   },
   "outputs": [],
   "source": [
    "#Importando as bibliotecas usadas na análise de dados públicos\n",
    "import matplotlib.pyplot as plt\n",
    "import pandas as pd\n",
    "low_memory=False\n",
    "%matplotlib inline\n",
    "\n",
    "#Lendo o arquivo CSV do site do IBAMA\n",
    "df = pd.read_csv(r'adm_comunicacidente_p.csv',delimiter=',', error_bad_lines=False)"
   ]
  },
  {
   "cell_type": "code",
   "execution_count": 172,
   "metadata": {},
   "outputs": [
    {
     "data": {
      "text/plain": [
       "(36551, 67)"
      ]
     },
     "execution_count": 172,
     "metadata": {},
     "output_type": "execute_result"
    }
   ],
   "source": [
    "#Tamanho da tabela por linhas x colunas\n",
    "df.shape"
   ]
  },
  {
   "cell_type": "code",
   "execution_count": 171,
   "metadata": {
    "scrolled": true
   },
   "outputs": [
    {
     "name": "stdout",
     "output_type": "stream",
     "text": [
      "<class 'pandas.core.frame.DataFrame'>\n",
      "RangeIndex: 36551 entries, 0 to 36550\n",
      "Data columns (total 67 columns):\n",
      "FID                                36551 non-null object\n",
      "id_ocorrencia                      36551 non-null int64\n",
      "id_municipio                       33632 non-null float64\n",
      "id_uf                              36411 non-null float64\n",
      "id_responsavel                     12054 non-null float64\n",
      "des_complemento_tipo_localizaca    8513 non-null object\n",
      "des_complemento_tipo_evento        7660 non-null object\n",
      "des_complemento_instituicao_atu    11645 non-null object\n",
      "des_complemento_tipo_dano_ident    6915 non-null object\n",
      "des_danos                          0 non-null float64\n",
      "des_ocorrencia                     20965 non-null object\n",
      "dt_ocorrencia                      15811 non-null object\n",
      "hr_ocorrencia                      35888 non-null object\n",
      "dt_registro                        36551 non-null object\n",
      "des_informacoes_adicionais         0 non-null float64\n",
      "plano_emergencia                   14266 non-null object\n",
      "plano_emergencia_acionado          36551 non-null object\n",
      "iniciados_outras_providencias      36551 non-null object\n",
      "des_outras_providencias            12332 non-null object\n",
      "ocorrencia_oleo                    36551 non-null object\n",
      "dt_primeira_obs                    15005 non-null object\n",
      "hr_primeira_obs                    14756 non-null object\n",
      "informacao_geografica              26282 non-null object\n",
      "informacao_responsavel             36551 non-null object\n",
      "acao_inicial_tomada                0 non-null float64\n",
      "des_causa_provavel                 14822 non-null object\n",
      "situacao_atual_descarga            2376 non-null object\n",
      "nome_comunicante                   15573 non-null object\n",
      "telefone_contato                   15586 non-null object\n",
      "des_obs                            12456 non-null object\n",
      "email_comunicante                  15208 non-null object\n",
      "nro_ocorrencia                     36551 non-null int64\n",
      "endereco_ocorrencia                15031 non-null object\n",
      "nome_instituicao_atuando           5523 non-null object\n",
      "telefone_instituicao_atuando       5129 non-null object\n",
      "tipo_substancia                    1672 non-null object\n",
      "volume_estimado                    1719 non-null float64\n",
      "produto_nao_se_aplica              5910 non-null object\n",
      "produto_perigoso                   7834 non-null object\n",
      "produto_nao_especificado           6499 non-null object\n",
      "id_bacia_sedimentar                1482 non-null float64\n",
      "cpf_contato                        15504 non-null object\n",
      "ip_contato                         5235 non-null object\n",
      "legado                             36551 non-null bool\n",
      "des_instituicao_empresa            15220 non-null object\n",
      "des_funcao_comunicante             15087 non-null object\n",
      "validado                           36551 non-null object\n",
      "tipo_comunicado                    10269 non-null object\n",
      "periodo_ocorrencia                 35832 non-null object\n",
      "periodo_primeira_obs               14770 non-null object\n",
      "municipio                          33369 non-null object\n",
      "uf                                 36369 non-null object\n",
      "bacia_sedimentar                   1482 non-null object\n",
      "origem                             36380 non-null object\n",
      "tipo_evento                        36333 non-null object\n",
      "dt_ocorrencia_feriado              15527 non-null object\n",
      "dia_semana                         0 non-null float64\n",
      "dia_semana_primeira_obs            0 non-null float64\n",
      "dia_semana_registro                0 non-null float64\n",
      "institiuicoes_atuando_local        35803 non-null object\n",
      "tipos_fontes_informacoes           34205 non-null object\n",
      "tipos_danos_identificados          35687 non-null object\n",
      "produtos_onu                       8187 non-null object\n",
      "produtos_outro                     4899 non-null object\n",
      "geom                               36551 non-null object\n",
      "dt_carga                           36551 non-null object\n",
      "feicao_proxima                     153 non-null float64\n",
      "dtypes: bool(1), float64(12), int64(2), object(52)\n",
      "memory usage: 11.2+ MB\n"
     ]
    }
   ],
   "source": [
    "#Informações sobre todas as colunas da tabela\n",
    "df.info()"
   ]
  },
  {
   "cell_type": "code",
   "execution_count": 174,
   "metadata": {},
   "outputs": [
    {
     "data": {
      "text/html": [
       "<div>\n",
       "<style scoped>\n",
       "    .dataframe tbody tr th:only-of-type {\n",
       "        vertical-align: middle;\n",
       "    }\n",
       "\n",
       "    .dataframe tbody tr th {\n",
       "        vertical-align: top;\n",
       "    }\n",
       "\n",
       "    .dataframe thead th {\n",
       "        text-align: right;\n",
       "    }\n",
       "</style>\n",
       "<table border=\"1\" class=\"dataframe\">\n",
       "  <thead>\n",
       "    <tr style=\"text-align: right;\">\n",
       "      <th></th>\n",
       "      <th>FID</th>\n",
       "      <th>id_ocorrencia</th>\n",
       "      <th>id_municipio</th>\n",
       "      <th>id_uf</th>\n",
       "      <th>id_responsavel</th>\n",
       "      <th>des_complemento_tipo_localizaca</th>\n",
       "      <th>des_complemento_tipo_evento</th>\n",
       "      <th>des_complemento_instituicao_atu</th>\n",
       "      <th>des_complemento_tipo_dano_ident</th>\n",
       "      <th>des_danos</th>\n",
       "      <th>des_ocorrencia</th>\n",
       "      <th>dt_ocorrencia</th>\n",
       "      <th>hr_ocorrencia</th>\n",
       "      <th>dt_registro</th>\n",
       "      <th>des_informacoes_adicionais</th>\n",
       "      <th>plano_emergencia</th>\n",
       "      <th>plano_emergencia_acionado</th>\n",
       "      <th>iniciados_outras_providencias</th>\n",
       "      <th>des_outras_providencias</th>\n",
       "      <th>ocorrencia_oleo</th>\n",
       "      <th>dt_primeira_obs</th>\n",
       "      <th>hr_primeira_obs</th>\n",
       "      <th>informacao_geografica</th>\n",
       "      <th>informacao_responsavel</th>\n",
       "      <th>acao_inicial_tomada</th>\n",
       "      <th>des_causa_provavel</th>\n",
       "      <th>situacao_atual_descarga</th>\n",
       "      <th>nome_comunicante</th>\n",
       "      <th>telefone_contato</th>\n",
       "      <th>des_obs</th>\n",
       "      <th>email_comunicante</th>\n",
       "      <th>nro_ocorrencia</th>\n",
       "      <th>endereco_ocorrencia</th>\n",
       "      <th>nome_instituicao_atuando</th>\n",
       "      <th>telefone_instituicao_atuando</th>\n",
       "      <th>tipo_substancia</th>\n",
       "      <th>volume_estimado</th>\n",
       "      <th>produto_nao_se_aplica</th>\n",
       "      <th>produto_perigoso</th>\n",
       "      <th>produto_nao_especificado</th>\n",
       "      <th>id_bacia_sedimentar</th>\n",
       "      <th>cpf_contato</th>\n",
       "      <th>ip_contato</th>\n",
       "      <th>legado</th>\n",
       "      <th>des_instituicao_empresa</th>\n",
       "      <th>des_funcao_comunicante</th>\n",
       "      <th>validado</th>\n",
       "      <th>tipo_comunicado</th>\n",
       "      <th>periodo_ocorrencia</th>\n",
       "      <th>periodo_primeira_obs</th>\n",
       "      <th>municipio</th>\n",
       "      <th>uf</th>\n",
       "      <th>bacia_sedimentar</th>\n",
       "      <th>origem</th>\n",
       "      <th>tipo_evento</th>\n",
       "      <th>dt_ocorrencia_feriado</th>\n",
       "      <th>dia_semana</th>\n",
       "      <th>dia_semana_primeira_obs</th>\n",
       "      <th>dia_semana_registro</th>\n",
       "      <th>institiuicoes_atuando_local</th>\n",
       "      <th>tipos_fontes_informacoes</th>\n",
       "      <th>tipos_danos_identificados</th>\n",
       "      <th>produtos_onu</th>\n",
       "      <th>produtos_outro</th>\n",
       "      <th>geom</th>\n",
       "      <th>dt_carga</th>\n",
       "      <th>feicao_proxima</th>\n",
       "    </tr>\n",
       "  </thead>\n",
       "  <tbody>\n",
       "    <tr>\n",
       "      <th>32520</th>\n",
       "      <td>adm_comunicacidente_p.325149</td>\n",
       "      <td>10301</td>\n",
       "      <td>3160702.0</td>\n",
       "      <td>13.0</td>\n",
       "      <td>6233.0</td>\n",
       "      <td>Via 040</td>\n",
       "      <td>Sem especificação da quantidade de substâncias...</td>\n",
       "      <td>Equipe da WGRA</td>\n",
       "      <td>Segundo informações repassadas ao NEA pelo VIA...</td>\n",
       "      <td>NaN</td>\n",
       "      <td>NaN</td>\n",
       "      <td>2018-08-27</td>\n",
       "      <td>02:30</td>\n",
       "      <td>2018-08-27</td>\n",
       "      <td>NaN</td>\n",
       "      <td>I</td>\n",
       "      <td>N</td>\n",
       "      <td>S</td>\n",
       "      <td>Equipe da PRF e do COBOM estão cientes.\\n\\nEqu...</td>\n",
       "      <td>N</td>\n",
       "      <td>2018-08-27</td>\n",
       "      <td>02:30</td>\n",
       "      <td>NaN</td>\n",
       "      <td>T</td>\n",
       "      <td>NaN</td>\n",
       "      <td>Segundo informações repassadas ao NEA pelo VIA...</td>\n",
       "      <td>NaN</td>\n",
       "      <td>Wellington Coutinho de Oliveira Evaristo</td>\n",
       "      <td>6133161070</td>\n",
       "      <td>DATA/HORA DO COMUNICADO AO NEA: \\n27/08/2018 à...</td>\n",
       "      <td>Wellington.Evaristo@ibama.gov.br</td>\n",
       "      <td>201882761251</td>\n",
       "      <td>Rodovia BR-040 , km 739 + 935 – Norte, municíp...</td>\n",
       "      <td>NaN</td>\n",
       "      <td>NaN</td>\n",
       "      <td>NaN</td>\n",
       "      <td>NaN</td>\n",
       "      <td>NaN</td>\n",
       "      <td>NaN</td>\n",
       "      <td>NaN</td>\n",
       "      <td>NaN</td>\n",
       "      <td>04279032114</td>\n",
       "      <td>NaN</td>\n",
       "      <td>False</td>\n",
       "      <td>Ibama/Dipro/CGEMA</td>\n",
       "      <td>Estagiário</td>\n",
       "      <td>S</td>\n",
       "      <td>I</td>\n",
       "      <td>S</td>\n",
       "      <td>S</td>\n",
       "      <td>Santos Dumont</td>\n",
       "      <td>MG</td>\n",
       "      <td>NaN</td>\n",
       "      <td>Rodovia</td>\n",
       "      <td>Derramamento de líquidos</td>\n",
       "      <td>False</td>\n",
       "      <td>NaN</td>\n",
       "      <td>NaN</td>\n",
       "      <td>NaN</td>\n",
       "      <td>Corpo de Bombeiros</td>\n",
       "      <td>Comunicado da empresa/responsável</td>\n",
       "      <td>Solo</td>\n",
       "      <td>SÓLIDO TÓXICO, CORROSIVO, INORGÂNICO, N.E.</td>\n",
       "      <td>NaN</td>\n",
       "      <td>POINT (-43.543708333333 -21.479269444444)</td>\n",
       "      <td>2018-11-13T17:18:00</td>\n",
       "      <td>NaN</td>\n",
       "    </tr>\n",
       "    <tr>\n",
       "      <th>31269</th>\n",
       "      <td>adm_comunicacidente_p.324752</td>\n",
       "      <td>10179</td>\n",
       "      <td>3125101.0</td>\n",
       "      <td>13.0</td>\n",
       "      <td>6128.0</td>\n",
       "      <td>NaN</td>\n",
       "      <td>NaN</td>\n",
       "      <td>A empresa embarcadora</td>\n",
       "      <td>NaN</td>\n",
       "      <td>NaN</td>\n",
       "      <td>NaN</td>\n",
       "      <td>2018-07-31</td>\n",
       "      <td>14:40</td>\n",
       "      <td>2018-08-06</td>\n",
       "      <td>NaN</td>\n",
       "      <td>I</td>\n",
       "      <td>N</td>\n",
       "      <td>S</td>\n",
       "      <td>A empresa embarcadora já realizou acionamento ...</td>\n",
       "      <td>N</td>\n",
       "      <td>2018-07-31</td>\n",
       "      <td>14:40</td>\n",
       "      <td>NaN</td>\n",
       "      <td>T</td>\n",
       "      <td>NaN</td>\n",
       "      <td>Segundo informações passadas, houve o tombamen...</td>\n",
       "      <td>NaN</td>\n",
       "      <td>Felipe Pereira de Lima</td>\n",
       "      <td>6133161070</td>\n",
       "      <td>O Analista Ambiental Newton Oliveira do NEA/DE...</td>\n",
       "      <td>Felipe-Pereira.Lima@ibama.gov.br</td>\n",
       "      <td>20188625242</td>\n",
       "      <td>Rodovia BR-381, km 936</td>\n",
       "      <td>NaN</td>\n",
       "      <td>NaN</td>\n",
       "      <td>NaN</td>\n",
       "      <td>NaN</td>\n",
       "      <td>NaN</td>\n",
       "      <td>True</td>\n",
       "      <td>NaN</td>\n",
       "      <td>NaN</td>\n",
       "      <td>05443730142</td>\n",
       "      <td>NaN</td>\n",
       "      <td>False</td>\n",
       "      <td>Ibama</td>\n",
       "      <td>Estagiário</td>\n",
       "      <td>S</td>\n",
       "      <td>I</td>\n",
       "      <td>V</td>\n",
       "      <td>V</td>\n",
       "      <td>Extrema</td>\n",
       "      <td>MG</td>\n",
       "      <td>NaN</td>\n",
       "      <td>Rodovia</td>\n",
       "      <td>Lançamento de sólidos</td>\n",
       "      <td>False</td>\n",
       "      <td>NaN</td>\n",
       "      <td>NaN</td>\n",
       "      <td>NaN</td>\n",
       "      <td>Outra(s)</td>\n",
       "      <td>Órgão Estadual ou Municipal de Meio Ambiente</td>\n",
       "      <td>Solo</td>\n",
       "      <td>NaN</td>\n",
       "      <td>Soja</td>\n",
       "      <td>POINT (-46.328722222222 -22.855527777778)</td>\n",
       "      <td>2018-11-13T17:18:00</td>\n",
       "      <td>NaN</td>\n",
       "    </tr>\n",
       "  </tbody>\n",
       "</table>\n",
       "</div>"
      ],
      "text/plain": [
       "                                FID  id_ocorrencia  id_municipio  id_uf  \\\n",
       "32520  adm_comunicacidente_p.325149          10301     3160702.0   13.0   \n",
       "31269  adm_comunicacidente_p.324752          10179     3125101.0   13.0   \n",
       "\n",
       "       id_responsavel des_complemento_tipo_localizaca  \\\n",
       "32520          6233.0                         Via 040   \n",
       "31269          6128.0                             NaN   \n",
       "\n",
       "                             des_complemento_tipo_evento  \\\n",
       "32520  Sem especificação da quantidade de substâncias...   \n",
       "31269                                                NaN   \n",
       "\n",
       "      des_complemento_instituicao_atu  \\\n",
       "32520                  Equipe da WGRA   \n",
       "31269           A empresa embarcadora   \n",
       "\n",
       "                         des_complemento_tipo_dano_ident  des_danos  \\\n",
       "32520  Segundo informações repassadas ao NEA pelo VIA...        NaN   \n",
       "31269                                                NaN        NaN   \n",
       "\n",
       "      des_ocorrencia dt_ocorrencia hr_ocorrencia dt_registro  \\\n",
       "32520            NaN    2018-08-27         02:30  2018-08-27   \n",
       "31269            NaN    2018-07-31         14:40  2018-08-06   \n",
       "\n",
       "       des_informacoes_adicionais plano_emergencia plano_emergencia_acionado  \\\n",
       "32520                         NaN                I                         N   \n",
       "31269                         NaN                I                         N   \n",
       "\n",
       "      iniciados_outras_providencias  \\\n",
       "32520                             S   \n",
       "31269                             S   \n",
       "\n",
       "                                 des_outras_providencias ocorrencia_oleo  \\\n",
       "32520  Equipe da PRF e do COBOM estão cientes.\\n\\nEqu...               N   \n",
       "31269  A empresa embarcadora já realizou acionamento ...               N   \n",
       "\n",
       "      dt_primeira_obs hr_primeira_obs informacao_geografica  \\\n",
       "32520      2018-08-27           02:30                   NaN   \n",
       "31269      2018-07-31           14:40                   NaN   \n",
       "\n",
       "      informacao_responsavel  acao_inicial_tomada  \\\n",
       "32520                      T                  NaN   \n",
       "31269                      T                  NaN   \n",
       "\n",
       "                                      des_causa_provavel  \\\n",
       "32520  Segundo informações repassadas ao NEA pelo VIA...   \n",
       "31269  Segundo informações passadas, houve o tombamen...   \n",
       "\n",
       "      situacao_atual_descarga                           nome_comunicante  \\\n",
       "32520                     NaN  Wellington Coutinho de Oliveira Evaristo    \n",
       "31269                     NaN                    Felipe Pereira de Lima    \n",
       "\n",
       "      telefone_contato                                            des_obs  \\\n",
       "32520    6133161070     DATA/HORA DO COMUNICADO AO NEA: \\n27/08/2018 à...   \n",
       "31269    6133161070     O Analista Ambiental Newton Oliveira do NEA/DE...   \n",
       "\n",
       "                      email_comunicante  nro_ocorrencia  \\\n",
       "32520  Wellington.Evaristo@ibama.gov.br    201882761251   \n",
       "31269  Felipe-Pereira.Lima@ibama.gov.br     20188625242   \n",
       "\n",
       "                                     endereco_ocorrencia  \\\n",
       "32520  Rodovia BR-040 , km 739 + 935 – Norte, municíp...   \n",
       "31269                             Rodovia BR-381, km 936   \n",
       "\n",
       "      nome_instituicao_atuando telefone_instituicao_atuando tipo_substancia  \\\n",
       "32520                      NaN                          NaN             NaN   \n",
       "31269                      NaN                          NaN             NaN   \n",
       "\n",
       "       volume_estimado produto_nao_se_aplica produto_perigoso  \\\n",
       "32520              NaN                   NaN              NaN   \n",
       "31269              NaN                   NaN             True   \n",
       "\n",
       "      produto_nao_especificado  id_bacia_sedimentar       cpf_contato  \\\n",
       "32520                      NaN                  NaN  04279032114        \n",
       "31269                      NaN                  NaN  05443730142        \n",
       "\n",
       "      ip_contato  legado des_instituicao_empresa des_funcao_comunicante  \\\n",
       "32520        NaN   False       Ibama/Dipro/CGEMA             Estagiário   \n",
       "31269        NaN   False                   Ibama             Estagiário   \n",
       "\n",
       "      validado tipo_comunicado periodo_ocorrencia periodo_primeira_obs  \\\n",
       "32520        S               I                  S                    S   \n",
       "31269        S               I                  V                    V   \n",
       "\n",
       "           municipio  uf bacia_sedimentar   origem               tipo_evento  \\\n",
       "32520  Santos Dumont  MG              NaN  Rodovia  Derramamento de líquidos   \n",
       "31269        Extrema  MG              NaN  Rodovia     Lançamento de sólidos   \n",
       "\n",
       "      dt_ocorrencia_feriado  dia_semana  dia_semana_primeira_obs  \\\n",
       "32520                 False         NaN                      NaN   \n",
       "31269                 False         NaN                      NaN   \n",
       "\n",
       "       dia_semana_registro institiuicoes_atuando_local  \\\n",
       "32520                  NaN          Corpo de Bombeiros   \n",
       "31269                  NaN                    Outra(s)   \n",
       "\n",
       "                           tipos_fontes_informacoes tipos_danos_identificados  \\\n",
       "32520             Comunicado da empresa/responsável                      Solo   \n",
       "31269  Órgão Estadual ou Municipal de Meio Ambiente                      Solo   \n",
       "\n",
       "                                     produtos_onu produtos_outro  \\\n",
       "32520  SÓLIDO TÓXICO, CORROSIVO, INORGÂNICO, N.E.            NaN   \n",
       "31269                                         NaN           Soja   \n",
       "\n",
       "                                            geom             dt_carga  \\\n",
       "32520  POINT (-43.543708333333 -21.479269444444)  2018-11-13T17:18:00   \n",
       "31269  POINT (-46.328722222222 -22.855527777778)  2018-11-13T17:18:00   \n",
       "\n",
       "       feicao_proxima  \n",
       "32520             NaN  \n",
       "31269             NaN  "
      ]
     },
     "execution_count": 174,
     "metadata": {},
     "output_type": "execute_result"
    }
   ],
   "source": [
    "#Apresentando duas linhas aleatórias da tabela\n",
    "df.sample(2)"
   ]
  },
  {
   "cell_type": "code",
   "execution_count": 175,
   "metadata": {},
   "outputs": [
    {
     "data": {
      "text/plain": [
       "<matplotlib.axes._subplots.AxesSubplot at 0x15e8f390>"
      ]
     },
     "execution_count": 175,
     "metadata": {},
     "output_type": "execute_result"
    },
    {
     "data": {
      "image/png": "[encoded data removed]",
      "text/plain": [
       "<Figure size 720x720 with 1 Axes>"
      ]
     },
     "metadata": {
      "needs_background": "light"
     },
     "output_type": "display_data"
    }
   ],
   "source": [
    "#Gráfico com o total de acidentes ocorridos em cada estado do Brasil desde 2009 até 2019\n",
    "df.groupby('uf').size().sort_values().tail(26).plot(kind='barh', figsize=(10,10))"
   ]
  },
  {
   "cell_type": "code",
   "execution_count": 176,
   "metadata": {},
   "outputs": [
    {
     "data": {
      "text/plain": [
       "<matplotlib.axes._subplots.AxesSubplot at 0x15116310>"
      ]
     },
     "execution_count": 176,
     "metadata": {},
     "output_type": "execute_result"
    },
    {
     "data": {
      "image/png": "[encoded data removed]",
      "text/plain": [
       "<Figure size 720x720 with 1 Axes>"
      ]
     },
     "metadata": {
      "needs_background": "light"
     },
     "output_type": "display_data"
    }
   ],
   "source": [
    "#Gráfico com 26 munícipios do Brasil com o total dos respectivos acidentes ambientais\n",
    "df.groupby('municipio').size().sort_values().tail(26).plot(kind='barh', figsize=(10,10))"
   ]
  },
  {
   "cell_type": "code",
   "execution_count": 186,
   "metadata": {},
   "outputs": [
    {
     "data": {
      "text/plain": [
       "<matplotlib.axes._subplots.AxesSubplot at 0x164a5c30>"
      ]
     },
     "execution_count": 186,
     "metadata": {},
     "output_type": "execute_result"
    },
    {
     "data": {
      "image/png": "[encoded data removed]",
      "text/plain": [
       "<Figure size 720x720 with 1 Axes>"
      ]
     },
     "metadata": {
      "needs_background": "light"
     },
     "output_type": "display_data"
    }
   ],
   "source": [
    "#Gráfico com as 5 maiores origens dos acidentes ocorridos no Brasil\n",
    "df.groupby('origem').size().sort_values().tail(5).plot(kind='barh', figsize=(10,10))"
   ]
  },
  {
   "cell_type": "code",
   "execution_count": 185,
   "metadata": {},
   "outputs": [
    {
     "data": {
      "text/plain": [
       "<matplotlib.axes._subplots.AxesSubplot at 0x164a56d0>"
      ]
     },
     "execution_count": 185,
     "metadata": {},
     "output_type": "execute_result"
    },
    {
     "data": {
      "image/png": "[encoded data removed]",
      "text/plain": [
       "<Figure size 720x720 with 1 Axes>"
      ]
     },
     "metadata": {
      "needs_background": "light"
     },
     "output_type": "display_data"
    }
   ],
   "source": [
    "#Gráfico com os 8 maiores tipos de acidentes ocorridos no país\n",
    "df.groupby('tipo_evento').size().sort_values().tail(8).plot(kind='barh', figsize=(10,10))"
   ]
  },
  {
   "cell_type": "code",
   "execution_count": 188,
   "metadata": {},
   "outputs": [
    {
     "data": {
      "text/plain": [
       "<matplotlib.axes._subplots.AxesSubplot at 0x154ee4b0>"
      ]
     },
     "execution_count": 188,
     "metadata": {},
     "output_type": "execute_result"
    },
    {
     "data": {
      "image/png": "[encoded data removed]",
      "text/plain": [
       "<Figure size 720x720 with 1 Axes>"
      ]
     },
     "metadata": {
      "needs_background": "light"
     },
     "output_type": "display_data"
    }
   ],
   "source": [
    "#Gráfico com o máximo total de acidentes ocorridos em cada data desde 2009\n",
    "df.groupby('dt_registro').size().sort_values().tail(25).plot(kind='barh', figsize=(10,10))"
   ]
  }
 ],
 "metadata": {
  "kernelspec": {
   "display_name": "Python 3",
   "language": "python",
   "name": "python3"
  },
  "language_info": {
   "codemirror_mode": {
    "name": "ipython",
    "version": 3
   },
   "file_extension": ".py",
   "mimetype": "text/x-python",
   "name": "python",
   "nbconvert_exporter": "python",
   "pygments_lexer": "ipython3",
   "version": "3.7.3"
  }
 },
 "nbformat": 4,
 "nbformat_minor": 2
}
