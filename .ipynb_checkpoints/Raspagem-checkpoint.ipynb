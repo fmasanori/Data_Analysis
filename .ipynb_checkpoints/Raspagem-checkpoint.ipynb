{
 "cells": [
  {
   "cell_type": "code",
   "execution_count": 85,
   "metadata": {},
   "outputs": [
    {
     "name": "stdout",
     "output_type": "stream",
     "text": [
      "['CNPJ', 'Razão Social', 'Estado', 'Município', 'Código da Categoria', 'Categoria de Atividade', 'Código do Detalhe', 'Detalhe', 'Ano', 'Nome do produto', 'Quantidade importada', 'Quantidade exportada', 'Unidade de Medida', 'Estoque em 31 de dezembro de', 'Situação cadastral']\n"
     ]
    }
   ],
   "source": [
    "import requests\n",
    "request_data = requests.get('http://dadosabertos.ibama.gov.br/dados/RAPP/impExpFaunaFlora/relatorio.html')\n",
    "from bs4 import BeautifulSoup as bs\n",
    "get_data = bs(request_data.text, 'html.parser')\n",
    "lista_title = []\n",
    "for title in get_data.thead.find_all('th'):\n",
    "    lista_title.append(title.text)\n",
    "print(lista_title)"
   ]
  },
  {
   "cell_type": "code",
   "execution_count": 101,
   "metadata": {},
   "outputs": [
    {
     "name": "stdout",
     "output_type": "stream",
     "text": [
      "['00.014.015/0001-09', 'ONDA IMPORT. EXPORT. E COM DE ARTIGOS DA FAUNA E FLORA LTDA.', 'SAO PAULO', 'SAO PAULO', '', '', '', '', '2000', 'Peixes ornamentais', '30.319,00', '0,00', 'Animal', '0,00', 'Suspenso para Averiguações - dados cadastrais inconsistentes e_ou recadastramento', '00.014.015/0001-09', 'ONDA IMPORT. EXPORT. E COM DE ARTIGOS DA FAUNA E FLORA LTDA.', 'SAO PAULO', 'SAO PAULO', '']\n"
     ]
    }
   ],
   "source": [
    "description = []\n",
    "for desc in get_data.tbody.find_all('td', limit=20): \n",
    "    list(description.append(desc.text))\n",
    "print(description)"
   ]
  }
 ],
 "metadata": {
  "kernelspec": {
   "display_name": "Python 3",
   "language": "python",
   "name": "python3"
  },
  "language_info": {
   "codemirror_mode": {
    "name": "ipython",
    "version": 3
   },
   "file_extension": ".py",
   "mimetype": "text/x-python",
   "name": "python",
   "nbconvert_exporter": "python",
   "pygments_lexer": "ipython3",
   "version": "3.7.3"
  }
 },
 "nbformat": 4,
 "nbformat_minor": 2
}
